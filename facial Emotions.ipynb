{
 "cells": [
  {
   "cell_type": "markdown",
   "metadata": {},
   "source": [
    "# <u>Emotion detection from facial expressions\n",
    "The aim of the problem is to find the emotion of a person by looking at the facial expression of that person. <br>The dataset used for this problem is from the Kaggle Challenge [Challenges in Representation Learning: Facial Expression Recognition Challenge](https://www.kaggle.com/c/challenges-in-representation-learning-facial-expression-recognition-challenge/data)\n",
    "\n",
    "The task is to categorize each face based on the emotion shown in the facial expression in to one of seven categories:<br> \n",
    "- 0: Angry \n",
    "- 1:Disgust\n",
    "- 2: Fear\n",
    "- 3: Happy\n",
    "- 4: Sad\n",
    "- 5: Surprise\n",
    "- 6: Neutral"
   ]
  },
  {
   "cell_type": "code",
   "execution_count": 1,
   "metadata": {
    "colab": {
     "autoexec": {
      "startup": false,
      "wait_interval": 0
     },
     "base_uri": "https://localhost:8080/",
     "height": 36
    },
    "colab_type": "code",
    "executionInfo": {
     "elapsed": 8590,
     "status": "ok",
     "timestamp": 1523758086120,
     "user": {
      "displayName": "Susanta Biswas",
      "photoUrl": "//lh5.googleusercontent.com/-j4zod5jytCU/AAAAAAAAAAI/AAAAAAAAAMw/oM-QES-nuuY/s50-c-k-no/photo.jpg",
      "userId": "109162984466767800710"
     },
     "user_tz": -330
    },
    "id": "bnrMk9GoIMLI",
    "outputId": "892f6b38-c0ab-46cf-9144-b4fa70929658"
   },
   "outputs": [
    {
     "name": "stderr",
     "output_type": "stream",
     "text": [
      "C:\\Users\\SUSANTA\\Anaconda3\\envs\\tensorflow\\lib\\site-packages\\h5py\\__init__.py:34: FutureWarning: Conversion of the second argument of issubdtype from `float` to `np.floating` is deprecated. In future, it will be treated as `np.float64 == np.dtype(float).type`.\n",
      "  from ._conv import register_converters as _register_converters\n",
      "Using TensorFlow backend.\n"
     ]
    }
   ],
   "source": [
    "# load the required modules\n",
    "import pandas as pd\n",
    "import numpy as np\n",
    "from keras.models import load_model\n",
    "import matplotlib.pyplot as plt\n",
    "import seaborn as sns\n",
    "import os.path\n",
    "import cv2\n",
    "\n",
    "from keras.models import Sequential\n",
    "from keras.layers import Dense, Activation, Dropout, Flatten, BatchNormalization\n",
    "from keras.layers import Conv2D\n",
    "from keras.utils import to_categorical\n",
    "from keras.callbacks import ModelCheckpoint\n",
    "from keras import callbacks\n",
    "from keras.callbacks import EarlyStopping\n",
    "from keras.layers import MaxPool2D\n",
    "%matplotlib inline"
   ]
  },
  {
   "cell_type": "markdown",
   "metadata": {
    "colab_type": "text",
    "id": "GtqlepOuIMLa"
   },
   "source": [
    "# <u>Data Preparation\n",
    "The training set consists of 28,709 examples.\n",
    "<br>The test set consists of 3,589 examples. \n",
    "<br>The cross validation set consists of another 3,589 examples.\n",
    "There is a csv file containing the emotion values for all the data."
   ]
  },
  {
   "cell_type": "code",
   "execution_count": 2,
   "metadata": {
    "colab": {
     "autoexec": {
      "startup": false,
      "wait_interval": 0
     }
    },
    "colab_type": "code",
    "id": "JYwEFWYwIMLk"
   },
   "outputs": [],
   "source": [
    "# load the images\n",
    "images_train = np.load('dataset/train_raw.npy')"
   ]
  },
  {
   "cell_type": "code",
   "execution_count": 3,
   "metadata": {
    "colab": {
     "autoexec": {
      "startup": false,
      "wait_interval": 0
     }
    },
    "colab_type": "code",
    "id": "0YTCWM05IMLu"
   },
   "outputs": [],
   "source": [
    "# load the cross validation images\n",
    "images_cv = np.load('dataset/cv_raw.npy')\n",
    "# load the test images\n",
    "images_test = np.load('dataset/test_raw.npy')"
   ]
  },
  {
   "cell_type": "code",
   "execution_count": 4,
   "metadata": {
    "colab": {
     "autoexec": {
      "startup": false,
      "wait_interval": 0
     }
    },
    "colab_type": "code",
    "id": "muGY1OSfIML0"
   },
   "outputs": [],
   "source": [
    "# load the corresponding emotion values\n",
    "emotions = pd.read_csv('dataset/emotions.csv', header=None)"
   ]
  },
  {
   "cell_type": "code",
   "execution_count": 5,
   "metadata": {
    "colab": {
     "autoexec": {
      "startup": false,
      "wait_interval": 0
     },
     "base_uri": "https://localhost:8080/",
     "height": 92
    },
    "colab_type": "code",
    "executionInfo": {
     "elapsed": 808,
     "status": "ok",
     "timestamp": 1523758110168,
     "user": {
      "displayName": "Susanta Biswas",
      "photoUrl": "//lh5.googleusercontent.com/-j4zod5jytCU/AAAAAAAAAAI/AAAAAAAAAMw/oM-QES-nuuY/s50-c-k-no/photo.jpg",
      "userId": "109162984466767800710"
     },
     "user_tz": -330
    },
    "id": "r4QW3r_1IMMM",
    "outputId": "370257a2-9182-4aeb-d947-c5da30bc44d6"
   },
   "outputs": [
    {
     "name": "stdout",
     "output_type": "stream",
     "text": [
      "28709\n",
      "3589\n",
      "3589\n",
      "35887\n"
     ]
    }
   ],
   "source": [
    "print(len(images_train))\n",
    "print(len(images_cv))\n",
    "print(len(images_test))\n",
    "print(len(emotions))"
   ]
  },
  {
   "cell_type": "markdown",
   "metadata": {},
   "source": [
    "### Data distribution"
   ]
  },
  {
   "cell_type": "code",
   "execution_count": 6,
   "metadata": {
    "colab": {
     "autoexec": {
      "startup": false,
      "wait_interval": 0
     },
     "base_uri": "https://localhost:8080/",
     "height": 318
    },
    "colab_type": "code",
    "executionInfo": {
     "elapsed": 1004,
     "status": "ok",
     "timestamp": 1523758114724,
     "user": {
      "displayName": "Susanta Biswas",
      "photoUrl": "//lh5.googleusercontent.com/-j4zod5jytCU/AAAAAAAAAAI/AAAAAAAAAMw/oM-QES-nuuY/s50-c-k-no/photo.jpg",
      "userId": "109162984466767800710"
     },
     "user_tz": -330
    },
    "id": "Y0H--CiyIMMa",
    "outputId": "c2f413f8-8bd3-4844-a4b3-d026d51a8bdd"
   },
   "outputs": [
    {
     "data": {
      "text/plain": [
       "array([[<matplotlib.axes._subplots.AxesSubplot object at 0x00000161B6EC5048>]],\n",
       "      dtype=object)"
      ]
     },
     "execution_count": 6,
     "metadata": {},
     "output_type": "execute_result"
    },
    {
     "data": {
      "image/png": "[encoded data removed]",
      "text/plain": [
       "<matplotlib.figure.Figure at 0x161aefc4e48>"
      ]
     },
     "metadata": {},
     "output_type": "display_data"
    }
   ],
   "source": [
    "# data distribution\n",
    "emotions.hist()"
   ]
  },
  {
   "cell_type": "code",
   "execution_count": 7,
   "metadata": {
    "colab": {
     "autoexec": {
      "startup": false,
      "wait_interval": 0
     },
     "base_uri": "https://localhost:8080/",
     "height": 168
    },
    "colab_type": "code",
    "executionInfo": {
     "elapsed": 934,
     "status": "ok",
     "timestamp": 1523758115858,
     "user": {
      "displayName": "Susanta Biswas",
      "photoUrl": "//lh5.googleusercontent.com/-j4zod5jytCU/AAAAAAAAAAI/AAAAAAAAAMw/oM-QES-nuuY/s50-c-k-no/photo.jpg",
      "userId": "109162984466767800710"
     },
     "user_tz": -330
    },
    "id": "AsAaH7XxIMMu",
    "outputId": "a0fa4f30-633e-4610-bc96-2ba95314fc9d"
   },
   "outputs": [
    {
     "data": {
      "text/plain": [
       "3    8989\n",
       "6    6198\n",
       "4    6077\n",
       "2    5121\n",
       "0    4953\n",
       "5    4002\n",
       "1     547\n",
       "Name: 0, dtype: int64"
      ]
     },
     "execution_count": 7,
     "metadata": {},
     "output_type": "execute_result"
    }
   ],
   "source": [
    "# distribution of pictures\n",
    "emotions[0].value_counts()"
   ]
  },
  {
   "cell_type": "markdown",
   "metadata": {},
   "source": [
    "### Prepare output labels"
   ]
  },
  {
   "cell_type": "code",
   "execution_count": 8,
   "metadata": {
    "colab": {
     "autoexec": {
      "startup": false,
      "wait_interval": 0
     }
    },
    "colab_type": "code",
    "id": "JqdmzoVpIMM6"
   },
   "outputs": [],
   "source": [
    "# prepare output labels for train, cv and test\n",
    "y_train = emotions[:images_train.shape[0]].values\n",
    "y_cv = emotions[images_train.shape[0]:images_train.shape[0] + images_cv.shape[0]].values\n",
    "y_test = emotions[images_train.shape[0] + images_cv.shape[0]: ].values"
   ]
  },
  {
   "cell_type": "code",
   "execution_count": 9,
   "metadata": {
    "colab": {
     "autoexec": {
      "startup": false,
      "wait_interval": 0
     },
     "base_uri": "https://localhost:8080/",
     "height": 74
    },
    "colab_type": "code",
    "executionInfo": {
     "elapsed": 850,
     "status": "ok",
     "timestamp": 1523758118314,
     "user": {
      "displayName": "Susanta Biswas",
      "photoUrl": "//lh5.googleusercontent.com/-j4zod5jytCU/AAAAAAAAAAI/AAAAAAAAAMw/oM-QES-nuuY/s50-c-k-no/photo.jpg",
      "userId": "109162984466767800710"
     },
     "user_tz": -330
    },
    "id": "agD4lvH4IMNC",
    "outputId": "f393fa14-e593-4a00-a4e0-d9900810de42"
   },
   "outputs": [
    {
     "name": "stdout",
     "output_type": "stream",
     "text": [
      "(28709, 1)\n",
      "(3589, 1)\n",
      "(3589, 1)\n"
     ]
    }
   ],
   "source": [
    "print(y_train.shape)\n",
    "print(y_cv.shape)\n",
    "print(y_test.shape)"
   ]
  },
  {
   "cell_type": "code",
   "execution_count": 10,
   "metadata": {
    "colab": {
     "autoexec": {
      "startup": false,
      "wait_interval": 0
     }
    },
    "colab_type": "code",
    "id": "XhwwExI0IMNO"
   },
   "outputs": [],
   "source": [
    "# create one hot encoding\n",
    "y_train_ohe = to_categorical(y_train, num_classes=7)\n",
    "y_cv_ohe = to_categorical(y_cv, num_classes=7)\n",
    "y_test_ohe = to_categorical(y_test, num_classes=7)"
   ]
  },
  {
   "cell_type": "code",
   "execution_count": 11,
   "metadata": {
    "colab": {
     "autoexec": {
      "startup": false,
      "wait_interval": 0
     },
     "base_uri": "https://localhost:8080/",
     "height": 74
    },
    "colab_type": "code",
    "executionInfo": {
     "elapsed": 808,
     "status": "ok",
     "timestamp": 1523758121858,
     "user": {
      "displayName": "Susanta Biswas",
      "photoUrl": "//lh5.googleusercontent.com/-j4zod5jytCU/AAAAAAAAAAI/AAAAAAAAAMw/oM-QES-nuuY/s50-c-k-no/photo.jpg",
      "userId": "109162984466767800710"
     },
     "user_tz": -330
    },
    "id": "9VdlfPIFIMNW",
    "outputId": "8e51dda5-5ce4-4079-9862-e005b029675f"
   },
   "outputs": [
    {
     "name": "stdout",
     "output_type": "stream",
     "text": [
      "(28709, 7)\n",
      "(3589, 7)\n",
      "(3589, 7)\n"
     ]
    }
   ],
   "source": [
    "print(y_train_ohe.shape)\n",
    "print(y_cv_ohe.shape)\n",
    "print(y_test_ohe.shape)"
   ]
  },
  {
   "cell_type": "markdown",
   "metadata": {},
   "source": [
    "### Sanity checking "
   ]
  },
  {
   "cell_type": "code",
   "execution_count": 12,
   "metadata": {
    "colab": {
     "autoexec": {
      "startup": false,
      "wait_interval": 0
     }
    },
    "colab_type": "code",
    "id": "wJiq1W6ASFJY"
   },
   "outputs": [],
   "source": [
    "# for displaying an image from dataset\n",
    "def show(img):\n",
    "    # resize the image\n",
    "    show_image = img.reshape(48,48)\n",
    "    # show the image\n",
    "    plt.imshow(show_image, cmap='gray')"
   ]
  },
  {
   "cell_type": "code",
   "execution_count": 13,
   "metadata": {
    "colab": {
     "autoexec": {
      "startup": false,
      "wait_interval": 0
     },
     "base_uri": "https://localhost:8080/",
     "height": 286
    },
    "colab_type": "code",
    "executionInfo": {
     "elapsed": 1072,
     "status": "ok",
     "timestamp": 1523758119598,
     "user": {
      "displayName": "Susanta Biswas",
      "photoUrl": "//lh5.googleusercontent.com/-j4zod5jytCU/AAAAAAAAAAI/AAAAAAAAAMw/oM-QES-nuuY/s50-c-k-no/photo.jpg",
      "userId": "109162984466767800710"
     },
     "user_tz": -330
    },
    "id": "4xvt_RdnSHnG",
    "outputId": "a87c40dd-7404-4f09-855e-0837275fcd0a"
   },
   "outputs": [
    {
     "name": "stdout",
     "output_type": "stream",
     "text": [
      "Emotion:[0]\n"
     ]
    },
    {
     "data": {
      "image/png": "[encoded data removed]",
      "text/plain": [
       "<matplotlib.figure.Figure at 0x161aefc4e80>"
      ]
     },
     "metadata": {},
     "output_type": "display_data"
    }
   ],
   "source": [
    "# verify the image with its label\n",
    "index = 0\n",
    "# training image\n",
    "show(images_train[index])\n",
    "print('Emotion:' + str(y_train[index]))"
   ]
  },
  {
   "cell_type": "code",
   "execution_count": 14,
   "metadata": {},
   "outputs": [
    {
     "name": "stdout",
     "output_type": "stream",
     "text": [
      "Emotion:[0]\n"
     ]
    },
    {
     "data": {
      "image/png": "[encoded data removed]",
      "text/plain": [
       "<matplotlib.figure.Figure at 0x161b7154828>"
      ]
     },
     "metadata": {},
     "output_type": "display_data"
    }
   ],
   "source": [
    "# cv image\n",
    "show(images_cv[index])\n",
    "print('Emotion:' + str(y_cv[index]))"
   ]
  },
  {
   "cell_type": "code",
   "execution_count": 15,
   "metadata": {},
   "outputs": [
    {
     "name": "stdout",
     "output_type": "stream",
     "text": [
      "Emotion:[0]\n"
     ]
    },
    {
     "data": {
      "image/png": "[encoded data removed]",
      "text/plain": [
       "<matplotlib.figure.Figure at 0x161b71e1828>"
      ]
     },
     "metadata": {},
     "output_type": "display_data"
    }
   ],
   "source": [
    "# test image\n",
    "show(images_test[index])\n",
    "print('Emotion:' + str(y_test[index]))"
   ]
  },
  {
   "cell_type": "markdown",
   "metadata": {
    "colab_type": "text",
    "id": "qa52XPxwIMNc"
   },
   "source": [
    "# <u>Preprocessing"
   ]
  },
  {
   "cell_type": "code",
   "execution_count": 16,
   "metadata": {
    "colab": {
     "autoexec": {
      "startup": false,
      "wait_interval": 0
     }
    },
    "colab_type": "code",
    "id": "DzJCVP4JIMNy"
   },
   "outputs": [],
   "source": [
    "# reshape the images for keras model\n",
    "images_train = np.expand_dims(images_train, 3)\n",
    "images_cv = np.expand_dims(images_cv, 3)\n",
    "images_test = np.expand_dims(images_test, 3)"
   ]
  },
  {
   "cell_type": "code",
   "execution_count": 17,
   "metadata": {
    "colab": {
     "autoexec": {
      "startup": false,
      "wait_interval": 0
     },
     "base_uri": "https://localhost:8080/",
     "height": 74
    },
    "colab_type": "code",
    "executionInfo": {
     "elapsed": 806,
     "status": "ok",
     "timestamp": 1523758126454,
     "user": {
      "displayName": "Susanta Biswas",
      "photoUrl": "//lh5.googleusercontent.com/-j4zod5jytCU/AAAAAAAAAAI/AAAAAAAAAMw/oM-QES-nuuY/s50-c-k-no/photo.jpg",
      "userId": "109162984466767800710"
     },
     "user_tz": -330
    },
    "id": "a0cXByBjIMOG",
    "outputId": "a469bf7c-1453-47c6-8760-d5100a090866"
   },
   "outputs": [
    {
     "name": "stdout",
     "output_type": "stream",
     "text": [
      "(28709, 48, 48, 1)\n",
      "(3589, 48, 48, 1)\n",
      "(3589, 48, 48, 1)\n"
     ]
    }
   ],
   "source": [
    "print(images_train.shape)\n",
    "print(images_cv.shape)\n",
    "print(images_test.shape)"
   ]
  },
  {
   "cell_type": "markdown",
   "metadata": {
    "colab_type": "text",
    "id": "g6qHloBvIMOU"
   },
   "source": [
    "# <u>Model Architecture"
   ]
  },
  {
   "cell_type": "code",
   "execution_count": 0,
   "metadata": {
    "colab": {
     "autoexec": {
      "startup": false,
      "wait_interval": 0
     }
    },
    "colab_type": "code",
    "id": "ju4D0z0QagkW"
   },
   "outputs": [],
   "source": [
    "from keras.utils import plot_model\n",
    "import pydot\n",
    "#plot_model(model, to_file='drive/Colab Notebooks/model.png', show_shapes=True)\n"
   ]
  },
  {
   "cell_type": "code",
   "execution_count": 18,
   "metadata": {
    "colab": {
     "autoexec": {
      "startup": false,
      "wait_interval": 0
     }
    },
    "colab_type": "code",
    "id": "232MdLx7IMOg"
   },
   "outputs": [],
   "source": [
    "# save the model weights after each epoch if the validation loss decreases\n",
    "checkpoint = ModelCheckpoint(filepath='models/weights_best.hdf5', verbose=1, save_best_only=True)"
   ]
  },
  {
   "cell_type": "code",
   "execution_count": 19,
   "metadata": {
    "colab": {
     "autoexec": {
      "startup": false,
      "wait_interval": 0
     }
    },
    "colab_type": "code",
    "id": "8XnFFPBlioEU"
   },
   "outputs": [],
   "source": [
    "# load already saved model if needed\n",
    "if os.path.exists('models/model.h5'):\n",
    "    model = load_model('models/model.h5')\n",
    "else:\n",
    "    print('No model to load !')"
   ]
  },
  {
   "cell_type": "markdown",
   "metadata": {},
   "source": [
    "### Make the model"
   ]
  },
  {
   "cell_type": "code",
   "execution_count": 20,
   "metadata": {
    "colab": {
     "autoexec": {
      "startup": false,
      "wait_interval": 0
     }
    },
    "colab_type": "code",
    "id": "x-L2shC6IMOw"
   },
   "outputs": [],
   "source": [
    "model = Sequential()\n",
    "\n",
    "# 1st stage\n",
    "model.add(Conv2D(32, 3, input_shape=(48, 48, 1), padding='same', \n",
    "                 activation='relu'))\n",
    "model.add(BatchNormalization())\n",
    "model.add(Conv2D(32, 3, padding='same', \n",
    "                 activation='relu'))\n",
    "model.add(BatchNormalization())\n",
    "model.add(MaxPool2D(pool_size=(2, 2), strides=2))\n",
    "\n",
    "# 2nd stage\n",
    "model.add(Conv2D(64, 3, padding='same', \n",
    "                 activation='relu'))\n",
    "model.add(BatchNormalization())\n",
    "model.add(Conv2D(64, 3, padding='same', \n",
    "                 activation='relu'))\n",
    "model.add(BatchNormalization())\n",
    "model.add(MaxPool2D(pool_size=(2, 2), strides=2))\n",
    "model.add(Dropout(0.25))\n",
    "\n",
    "# 3rd stage\n",
    "model.add(Conv2D(128, 3, padding='same', \n",
    "                 activation='relu'))\n",
    "model.add(BatchNormalization())\n",
    "model.add(Conv2D(128, 3, padding='same', \n",
    "                 activation='relu'))\n",
    "model.add(BatchNormalization())\n",
    "model.add(MaxPool2D(pool_size=(2, 2), strides=2))\n",
    "model.add(Dropout(0.25))\n",
    "\n",
    "# FC layers\n",
    "model.add(Flatten())\n",
    "model.add(Dense(256))\n",
    "model.add(Activation(\"relu\"))\n",
    "model.add(BatchNormalization())\n",
    "model.add(Dropout(0.5))\n",
    "\n",
    "model.add(Dense(256))\n",
    "model.add(Activation(\"relu\"))\n",
    "model.add(BatchNormalization())\n",
    "model.add(Dropout(0.5))\n",
    "\n",
    "model.add(Dense(256))\n",
    "model.add(Activation(\"relu\"))\n",
    "model.add(BatchNormalization())\n",
    "model.add(Dropout(0.5))\n",
    "\n",
    "model.add(Dense(7))\n",
    "model.add(Activation('softmax'))"
   ]
  },
  {
   "cell_type": "code",
   "execution_count": 65,
   "metadata": {
    "colab": {
     "autoexec": {
      "startup": false,
      "wait_interval": 0
     },
     "base_uri": "https://localhost:8080/",
     "height": 1357
    },
    "colab_type": "code",
    "executionInfo": {
     "elapsed": 870,
     "status": "ok",
     "timestamp": 1523762458250,
     "user": {
      "displayName": "Susanta Biswas",
      "photoUrl": "//lh5.googleusercontent.com/-j4zod5jytCU/AAAAAAAAAAI/AAAAAAAAAMw/oM-QES-nuuY/s50-c-k-no/photo.jpg",
      "userId": "109162984466767800710"
     },
     "user_tz": -330
    },
    "id": "ZkcNEwLoIMO4",
    "outputId": "fe0f2e9e-f6ba-45c6-9c16-065a17096ecf"
   },
   "outputs": [
    {
     "name": "stdout",
     "output_type": "stream",
     "text": [
      "_________________________________________________________________\n",
      "Layer (type)                 Output Shape              Param #   \n",
      "=================================================================\n",
      "conv2d_13 (Conv2D)           (None, 48, 48, 32)        320       \n",
      "_________________________________________________________________\n",
      "batch_normalization_18 (Batc (None, 48, 48, 32)        128       \n",
      "_________________________________________________________________\n",
      "conv2d_14 (Conv2D)           (None, 48, 48, 32)        9248      \n",
      "_________________________________________________________________\n",
      "batch_normalization_19 (Batc (None, 48, 48, 32)        128       \n",
      "_________________________________________________________________\n",
      "max_pooling2d_5 (MaxPooling2 (None, 24, 24, 32)        0         \n",
      "_________________________________________________________________\n",
      "conv2d_15 (Conv2D)           (None, 24, 24, 64)        18496     \n",
      "_________________________________________________________________\n",
      "batch_normalization_20 (Batc (None, 24, 24, 64)        256       \n",
      "_________________________________________________________________\n",
      "conv2d_16 (Conv2D)           (None, 24, 24, 64)        36928     \n",
      "_________________________________________________________________\n",
      "batch_normalization_21 (Batc (None, 24, 24, 64)        256       \n",
      "_________________________________________________________________\n",
      "max_pooling2d_6 (MaxPooling2 (None, 12, 12, 64)        0         \n",
      "_________________________________________________________________\n",
      "dropout_8 (Dropout)          (None, 12, 12, 64)        0         \n",
      "_________________________________________________________________\n",
      "conv2d_17 (Conv2D)           (None, 12, 12, 128)       73856     \n",
      "_________________________________________________________________\n",
      "batch_normalization_22 (Batc (None, 12, 12, 128)       512       \n",
      "_________________________________________________________________\n",
      "conv2d_18 (Conv2D)           (None, 12, 12, 128)       147584    \n",
      "_________________________________________________________________\n",
      "batch_normalization_23 (Batc (None, 12, 12, 128)       512       \n",
      "_________________________________________________________________\n",
      "max_pooling2d_7 (MaxPooling2 (None, 6, 6, 128)         0         \n",
      "_________________________________________________________________\n",
      "dropout_9 (Dropout)          (None, 6, 6, 128)         0         \n",
      "_________________________________________________________________\n",
      "flatten_3 (Flatten)          (None, 4608)              0         \n",
      "_________________________________________________________________\n",
      "dense_8 (Dense)              (None, 256)               1179904   \n",
      "_________________________________________________________________\n",
      "activation_8 (Activation)    (None, 256)               0         \n",
      "_________________________________________________________________\n",
      "batch_normalization_24 (Batc (None, 256)               1024      \n",
      "_________________________________________________________________\n",
      "dropout_10 (Dropout)         (None, 256)               0         \n",
      "_________________________________________________________________\n",
      "dense_9 (Dense)              (None, 256)               65792     \n",
      "_________________________________________________________________\n",
      "activation_9 (Activation)    (None, 256)               0         \n",
      "_________________________________________________________________\n",
      "batch_normalization_25 (Batc (None, 256)               1024      \n",
      "_________________________________________________________________\n",
      "dropout_11 (Dropout)         (None, 256)               0         \n",
      "_________________________________________________________________\n",
      "dense_10 (Dense)             (None, 256)               65792     \n",
      "_________________________________________________________________\n",
      "activation_10 (Activation)   (None, 256)               0         \n",
      "_________________________________________________________________\n",
      "batch_normalization_26 (Batc (None, 256)               1024      \n",
      "_________________________________________________________________\n",
      "dropout_12 (Dropout)         (None, 256)               0         \n",
      "_________________________________________________________________\n",
      "dense_11 (Dense)             (None, 7)                 1799      \n",
      "_________________________________________________________________\n",
      "activation_11 (Activation)   (None, 7)                 0         \n",
      "=================================================================\n",
      "Total params: 1,604,583\n",
      "Trainable params: 1,602,151\n",
      "Non-trainable params: 2,432\n",
      "_________________________________________________________________\n"
     ]
    }
   ],
   "source": [
    "model.summary()"
   ]
  },
  {
   "cell_type": "code",
   "execution_count": 21,
   "metadata": {
    "colab": {
     "autoexec": {
      "startup": false,
      "wait_interval": 0
     }
    },
    "colab_type": "code",
    "id": "dNi-k49DIMPE"
   },
   "outputs": [],
   "source": [
    "# compile the model\n",
    "model.compile(loss='categorical_crossentropy', optimizer='adam', metrics=['accuracy'])"
   ]
  },
  {
   "cell_type": "markdown",
   "metadata": {},
   "source": [
    "### NOTE: The model was trained for 50 epochs but was done not in one go, so in the fit function there is only 5 written as it was the last time the model was run"
   ]
  },
  {
   "cell_type": "code",
   "execution_count": 72,
   "metadata": {
    "colab": {
     "autoexec": {
      "startup": false,
      "wait_interval": 0
     },
     "base_uri": "https://localhost:8080/",
     "height": 433
    },
    "colab_type": "code",
    "executionInfo": {
     "elapsed": 157062,
     "status": "ok",
     "timestamp": 1523765433954,
     "user": {
      "displayName": "Susanta Biswas",
      "photoUrl": "//lh5.googleusercontent.com/-j4zod5jytCU/AAAAAAAAAAI/AAAAAAAAAMw/oM-QES-nuuY/s50-c-k-no/photo.jpg",
      "userId": "109162984466767800710"
     },
     "user_tz": -330
    },
    "id": "LAD095X6IMPI",
    "outputId": "54b256ed-b52c-435a-8224-69dbefbf449a"
   },
   "outputs": [
    {
     "name": "stdout",
     "output_type": "stream",
     "text": [
      "Train on 28709 samples, validate on 3589 samples\n",
      "Epoch 1/5\n",
      "28709/28709 [==============================] - 29s 1ms/step - loss: 0.1516 - acc: 0.9484 - val_loss: 1.8035 - val_acc: 0.6252\n",
      "\n",
      "Epoch 00001: val_loss did not improve\n",
      "Epoch 2/5\n",
      "27264/28709 [===========================>..] - ETA: 1s - loss: 0.1542 - acc: 0.948228709/28709 [==============================] - 29s 1ms/step - loss: 0.1553 - acc: 0.9479 - val_loss: 1.7623 - val_acc: 0.6317\n",
      "\n",
      "Epoch 00002: val_loss did not improve\n",
      "Epoch 3/5\n",
      "28709/28709 [==============================] - 29s 1ms/step - loss: 0.1512 - acc: 0.9473 - val_loss: 1.7439 - val_acc: 0.6297\n",
      "\n",
      "Epoch 00003: val_loss did not improve\n",
      "Epoch 4/5\n",
      "11904/28709 [===========>..................] - ETA: 16s - loss: 0.1455 - acc: 0.950228709/28709 [==============================] - 29s 1ms/step - loss: 0.1536 - acc: 0.9469 - val_loss: 1.7773 - val_acc: 0.6311\n",
      "\n",
      "Epoch 00004: val_loss did not improve\n",
      "Epoch 5/5\n",
      "28709/28709 [==============================] - 29s 1ms/step - loss: 0.1472 - acc: 0.9487 - val_loss: 1.8095 - val_acc: 0.6339\n",
      "\n",
      "Epoch 00005: val_loss did not improve\n"
     ]
    }
   ],
   "source": [
    "# start training the model\n",
    "hist = model.fit(images_train, y_train_ohe, batch_size=128, epochs=5, verbose=1,\n",
    "          validation_data=(images_cv, y_cv_ohe), shuffle=True, callbacks=[checkpoint])\n",
    "\n",
    "# save the current model and weights\n",
    "model.save_weights('models/weights.h5')\n",
    "model.save('models/model.h5')"
   ]
  },
  {
   "cell_type": "markdown",
   "metadata": {},
   "source": [
    "## <u>Model Evaluation\n",
    "The model achieves 63% accuracy on the unseen test set."
   ]
  },
  {
   "cell_type": "code",
   "execution_count": 73,
   "metadata": {
    "colab": {
     "autoexec": {
      "startup": false,
      "wait_interval": 0
     },
     "base_uri": "https://localhost:8080/",
     "height": 111
    },
    "colab_type": "code",
    "executionInfo": {
     "elapsed": 2598,
     "status": "ok",
     "timestamp": 1523765443296,
     "user": {
      "displayName": "Susanta Biswas",
      "photoUrl": "//lh5.googleusercontent.com/-j4zod5jytCU/AAAAAAAAAAI/AAAAAAAAAMw/oM-QES-nuuY/s50-c-k-no/photo.jpg",
      "userId": "109162984466767800710"
     },
     "user_tz": -330
    },
    "id": "5YL3RAafVKgy",
    "outputId": "fc3828e6-29ff-4c09-9a70-47f124aa285e"
   },
   "outputs": [
    {
     "name": "stdout",
     "output_type": "stream",
     "text": [
      "Training Accuracy:  0.9487268800579179\n",
      "Validation Accuracy:  0.6338813039927006\n",
      "3589/3589 [==============================] - 2s 498us/step\n",
      "Test score: 1.743287368882297\n",
      "Test accuracy: 0.6324881582779617\n"
     ]
    }
   ],
   "source": [
    "# training loss and accuracy\n",
    "train_acc = hist.history['acc']\n",
    "val_acc = hist.history['val_acc']\n",
    "print('Training Accuracy: ', train_acc[-1])\n",
    "print('Validation Accuracy: ', val_acc[-1])\n",
    "\n",
    "# test loss and accuracy\n",
    "score, acc = model.evaluate(images_test, y_test_ohe,\n",
    "                            batch_size=32)\n",
    "print('Test score:', score)\n",
    "print('Test accuracy:', acc)"
   ]
  },
  {
   "cell_type": "markdown",
   "metadata": {},
   "source": [
    "### Plot the training loss and accuracy graph"
   ]
  },
  {
   "cell_type": "code",
   "execution_count": 71,
   "metadata": {
    "colab": {
     "autoexec": {
      "startup": false,
      "wait_interval": 0
     },
     "base_uri": "https://localhost:8080/",
     "height": 356
    },
    "colab_type": "code",
    "executionInfo": {
     "elapsed": 1662,
     "status": "ok",
     "timestamp": 1523765129758,
     "user": {
      "displayName": "Susanta Biswas",
      "photoUrl": "//lh5.googleusercontent.com/-j4zod5jytCU/AAAAAAAAAAI/AAAAAAAAAMw/oM-QES-nuuY/s50-c-k-no/photo.jpg",
      "userId": "109162984466767800710"
     },
     "user_tz": -330
    },
    "id": "yvqVOSzXOXGc",
    "outputId": "d5cc878e-4fd2-4ab3-f134-ee92c49749ce"
   },
   "outputs": [
    {
     "data": {
      "image/png": "[encoded data removed]",
      "text/plain": [
       "<matplotlib.figure.Figure at 0x7f790eec77f0>"
      ]
     },
     "metadata": {
      "tags": []
     },
     "output_type": "display_data"
    }
   ],
   "source": [
    "plt.figure(figsize=(16,5))\n",
    "# training loss graph\n",
    "plt.subplot(1, 2, 1)\n",
    "plt.suptitle('Optimizer : Adam', fontsize=10)\n",
    "plt.ylabel('Loss', fontsize=16)\n",
    "plt.plot(hist.history['loss'], color='b', label='Training Loss')\n",
    "plt.plot(hist.history['val_loss'], color='r', label='Validation Loss')\n",
    "plt.legend(loc='upper right')\n",
    "\n",
    "# training accuracy graph\n",
    "plt.subplot(1, 2, 2)\n",
    "plt.ylabel('Accuracy', fontsize=16)\n",
    "plt.plot(hist.history['acc'], color='b', label='Training Accuracy')\n",
    "plt.plot(hist.history['val_acc'], color='r', label='Validation Accuracy')\n",
    "plt.legend(loc='lower right')\n",
    "plt.show()\n",
    "\n"
   ]
  },
  {
   "cell_type": "code",
   "execution_count": 0,
   "metadata": {
    "colab": {
     "autoexec": {
      "startup": false,
      "wait_interval": 0
     }
    },
    "colab_type": "code",
    "id": "y0MNiVYkVii6"
   },
   "outputs": [],
   "source": []
  }
 ],
 "metadata": {
  "accelerator": "GPU",
  "colab": {
   "collapsed_sections": [],
   "default_view": {},
   "name": "facial Emotions.ipynb",
   "provenance": [],
   "version": "0.3.2",
   "views": {}
  },
  "kernelspec": {
   "display_name": "Python 3",
   "language": "python",
   "name": "python3"
  },
  "language_info": {
   "codemirror_mode": {
    "name": "ipython",
    "version": 3
   },
   "file_extension": ".py",
   "mimetype": "text/x-python",
   "name": "python",
   "nbconvert_exporter": "python",
   "pygments_lexer": "ipython3",
   "version": "3.6.3"
  }
 },
 "nbformat": 4,
 "nbformat_minor": 1
}
